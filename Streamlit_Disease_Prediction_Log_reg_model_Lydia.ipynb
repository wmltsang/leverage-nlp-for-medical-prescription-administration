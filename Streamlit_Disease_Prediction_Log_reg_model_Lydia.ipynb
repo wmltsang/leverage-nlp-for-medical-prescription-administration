{
  "cells": [
    {
      "cell_type": "markdown",
      "metadata": {
        "id": "view-in-github",
        "colab_type": "text"
      },
      "source": [
        "<a href=\"https://colab.research.google.com/github/wmltsang/leverage-nlp-for-medical-prescription-administration/blob/main/Streamlit_Disease_Prediction_Log_reg_model_Lydia.ipynb\" target=\"_parent\"><img src=\"https://colab.research.google.com/assets/colab-badge.svg\" alt=\"Open In Colab\"/></a>"
      ]
    },
    {
      "cell_type": "code",
      "execution_count": null,
      "metadata": {
        "colab": {
          "base_uri": "https://localhost:8080/"
        },
        "id": "41iM-49evFVb",
        "outputId": "530b0532-1b43-46f1-9fe0-a7e605b81794"
      },
      "outputs": [
        {
          "name": "stdout",
          "output_type": "stream",
          "text": [
            "\u001b[2K     \u001b[90m━━━━━━━━━━━━━━━━━━━━━━━━━━━━━━━━━━━━━━━━\u001b[0m \u001b[32m44.3/44.3 kB\u001b[0m \u001b[31m643.7 kB/s\u001b[0m eta \u001b[36m0:00:00\u001b[0m\n",
            "\u001b[2K   \u001b[90m━━━━━━━━━━━━━━━━━━━━━━━━━━━━━━━━━━━━━━━━\u001b[0m \u001b[32m9.8/9.8 MB\u001b[0m \u001b[31m21.9 MB/s\u001b[0m eta \u001b[36m0:00:00\u001b[0m\n",
            "\u001b[2K   \u001b[90m━━━━━━━━━━━━━━━━━━━━━━━━━━━━━━━━━━━━━━━━\u001b[0m \u001b[32m6.9/6.9 MB\u001b[0m \u001b[31m30.1 MB/s\u001b[0m eta \u001b[36m0:00:00\u001b[0m\n",
            "\u001b[2K   \u001b[90m━━━━━━━━━━━━━━━━━━━━━━━━━━━━━━━━━━━━━━━━\u001b[0m \u001b[32m79.1/79.1 kB\u001b[0m \u001b[31m3.1 MB/s\u001b[0m eta \u001b[36m0:00:00\u001b[0m\n",
            "\u001b[?25h"
          ]
        }
      ],
      "source": [
        "# !pip install -q streamlit\n",
        "# !pip install -q joblib"
      ]
    },
    {
      "cell_type": "code",
      "execution_count": null,
      "metadata": {
        "colab": {
          "base_uri": "https://localhost:8080/"
        },
        "id": "8B65CyX-6V9g",
        "outputId": "2115e32b-2333-4e43-ffd4-be7dba11737b"
      },
      "outputs": [
        {
          "name": "stdout",
          "output_type": "stream",
          "text": [
            "Writing app.py\n"
          ]
        }
      ],
      "source": [
        "%%writefile app.py\n",
        "import streamlit as st\n",
        "import pandas as pd\n",
        "import joblib\n",
        "import os\n",
        "\n",
        "\n",
        "# 🔹 Set Google Drive path (Modify if necessary)\n",
        "drive_path = \"/content/gdrive/MyDrive/\"\n",
        "\n",
        "# 🔹 Function to load the trained model and vectorizer\n",
        "@st.cache_resource\n",
        "def load_model():\n",
        "    model_path = os.path.join(drive_path, \"disease_model.pkl\")\n",
        "    vectorizer_path = os.path.join(drive_path, \"tfidf_vectorizer.pkl\")\n",
        "\n",
        "    if not os.path.exists(model_path) or not os.path.exists(vectorizer_path):\n",
        "        st.error(\"🚨 Model or vectorizer not found! Please train and save them first.\")\n",
        "        return None, None\n",
        "\n",
        "    clf = joblib.load(model_path)\n",
        "    vectorizer = joblib.load(vectorizer_path)\n",
        "    return clf, vectorizer\n",
        "\n",
        "# 🔹 Load Model & Vectorizer\n",
        "clf, vectorizer_tfidf = load_model()\n",
        "\n",
        "# 🔹 Load Dataset for Symptom Selection\n",
        "@st.cache_data\n",
        "def load_data():\n",
        "    data_path = \"/content/gdrive/MyDrive/processed_diseases-2400_NER.csv\"\n",
        "    return pd.read_csv(data_path)\n",
        "\n",
        "df = load_data()\n",
        "\n",
        "# ✅ Streamlit App UI\n",
        "st.title(\"🔬 Disease Prediction App\")\n",
        "st.write(\"**Select symptoms and predict the most likely disease.**\")\n",
        "\n",
        "# 🔹 Extract Unique Symptoms\n",
        "all_symptoms = set()\n",
        "for symptoms in df[\"Symptoms\"].astype(str).fillna(\"\"):\n",
        "    all_symptoms.update(symptoms.split(\", \"))\n",
        "\n",
        "\n",
        "# 🔹 User Input: Multi-select Symptoms\n",
        "selected_symptoms = st.multiselect(\"🩺 Select Symptoms:\", sorted(all_symptoms))\n",
        "\n",
        "# 🔹 Prediction Button\n",
        "if st.button(\"🔍 Predict Disease\"):\n",
        "    if not selected_symptoms:\n",
        "        st.warning(\"⚠️ Please select at least one symptom.\")\n",
        "    elif clf is None or vectorizer_tfidf is None:\n",
        "        st.error(\"🚨 Model is not loaded. Please check the file paths and restart.\")\n",
        "    else:\n",
        "        # Convert user input to TF-IDF format\n",
        "        input_text = \", \".join(selected_symptoms)\n",
        "        input_vectorized = vectorizer_tfidf.transform([input_text])\n",
        "\n",
        "        # Make Prediction\n",
        "        prediction = clf.predict(input_vectorized)\n",
        "        probability = clf.predict_proba(input_vectorized).max()\n",
        "\n",
        "        # ✅ Display the Prediction\n",
        "        st.success(f\"🩺 **Predicted Disease:** {prediction[0].capitalize()}\")\n",
        "        st.write(f\"🔍 **Confidence Score:** {probability:.2f}\")\n",
        "\n",
        "# 🔹 Data Preview\n",
        "st.write(\"📊 **Sample Data:**\")\n",
        "st.dataframe(df.head())\n"
      ]
    },
    {
      "cell_type": "code",
      "execution_count": null,
      "metadata": {
        "colab": {
          "base_uri": "https://localhost:8080/"
        },
        "id": "2DdJLKGDPqL6",
        "outputId": "eb283efe-99ad-4133-902d-86cffd1e359a"
      },
      "outputs": [
        {
          "name": "stdout",
          "output_type": "stream",
          "text": [
            "\u001b[1G\u001b[0K⠙\u001b[1G\u001b[0K⠹\u001b[1G\u001b[0K⠸\u001b[1G\u001b[0K⠼\u001b[1G\u001b[0K⠴\u001b[1G\u001b[0K⠦\u001b[1G\u001b[0K⠧\u001b[1G\u001b[0K⠇\u001b[1G\u001b[0K⠏\u001b[1G\u001b[0K⠋\u001b[1G\u001b[0K⠙\u001b[1G\u001b[0K⠹\u001b[1G\u001b[0K⠸\u001b[1G\u001b[0K⠼\u001b[1G\u001b[0K⠴\u001b[1G\u001b[0K⠦\u001b[1G\u001b[0K⠧\u001b[1G\u001b[0K⠇\u001b[1G\u001b[0K⠏\u001b[1G\u001b[0K⠋\u001b[1G\u001b[0K⠙\u001b[1G\u001b[0K\n",
            "added 22 packages in 2s\n",
            "\u001b[1G\u001b[0K⠙\u001b[1G\u001b[0K\n",
            "\u001b[1G\u001b[0K⠙\u001b[1G\u001b[0K3 packages are looking for funding\n",
            "\u001b[1G\u001b[0K⠙\u001b[1G\u001b[0K  run `npm fund` for details\n",
            "\u001b[1G\u001b[0K⠙\u001b[1G\u001b[0K"
          ]
        }
      ],
      "source": [
        "# Step 1: Install necessary tools\n",
        "!npm install -g localtunnel\n"
      ]
    },
    {
      "cell_type": "code",
      "execution_count": null,
      "metadata": {
        "id": "oqHIHXpsP94E"
      },
      "outputs": [],
      "source": [
        "# Step 3: Run Streamlit app in background\n",
        "!streamlit run app.py --server.address=localhost &>/content/logs.txt &"
      ]
    },
    {
      "cell_type": "code",
      "execution_count": null,
      "metadata": {
        "colab": {
          "background_save": true,
          "base_uri": "https://localhost:8080/"
        },
        "id": "Mf6T8D9nQEKX",
        "outputId": "d3a1c408-a7da-4d4d-b3c6-2ecd50f8995c"
      },
      "outputs": [
        {
          "name": "stdout",
          "output_type": "stream",
          "text": [
            "\u001b[1G\u001b[0K⠙\u001b[1G\u001b[0Kyour url is: https://yummy-pandas-sniff.loca.lt\n"
          ]
        }
      ],
      "source": [
        "# Step 4: Expose port 8501 via localtunnel\n",
        "!npx localtunnel --port 8501\n"
      ]
    },
    {
      "cell_type": "code",
      "execution_count": null,
      "metadata": {
        "colab": {
          "base_uri": "https://localhost:8080/"
        },
        "id": "YqFHBa9CKcnb",
        "outputId": "7b8fc182-c206-4ba6-da27-5d6ec3f2cc9f"
      },
      "outputs": [
        {
          "name": "stdout",
          "output_type": "stream",
          "text": [
            "\u001b[1G\u001b[0K⠙\u001b[1G\u001b[0K⠹\u001b[1G\u001b[0K⠸\u001b[1G\u001b[0K⠼\u001b[1G\u001b[0K⠴\u001b[1G\u001b[0K⠦\u001b[1G\u001b[0K⠧\u001b[1G\u001b[0K⠇\u001b[1G\u001b[0K⠏\u001b[1G\u001b[0K⠋\u001b[1G\u001b[0K⠙\u001b[1G\u001b[0K⠹\u001b[1G\u001b[0K⠸\u001b[1G\u001b[0K⠼\u001b[1G\u001b[0K⠴\u001b[1G\u001b[0K⠦\u001b[1G\u001b[0K⠧\u001b[1G\u001b[0K⠇\u001b[1G\u001b[0K⠏\u001b[1G\u001b[0K⠋\u001b[1G\u001b[0K⠙\u001b[1G\u001b[0K⠹\u001b[1G\u001b[0K⠸\u001b[1G\u001b[0K⠼\u001b[1G\u001b[0K⠴\u001b[1G\u001b[0K⠦\u001b[1G\u001b[0K⠧\u001b[1G\u001b[0K⠇\u001b[1G\u001b[0K⠏\u001b[1G\u001b[0K⠋\u001b[1G\u001b[0K⠙\u001b[1G\u001b[0K⠹\u001b[1G\u001b[0K⠸\u001b[1G\u001b[0K⠼\u001b[1G\u001b[0K⠴\u001b[1G\u001b[0K⠦\u001b[1G\u001b[0K⠧\u001b[1G\u001b[0K⠇\u001b[1G\u001b[0K⠏\u001b[1G\u001b[0K⠋\u001b[1G\u001b[0K⠙\u001b[1G\u001b[0K⠹\u001b[1G\u001b[0K⠸\u001b[1G\u001b[0K⠼\u001b[1G\u001b[0K⠴\u001b[1G\u001b[0K⠦\u001b[1G\u001b[0K⠧\u001b[1G\u001b[0K⠇\u001b[1G\u001b[0K⠏\u001b[1G\u001b[0K⠋\u001b[1G\u001b[0K⠙\u001b[1G\u001b[0K⠹\u001b[1G\u001b[0K⠸\u001b[1G\u001b[0K⠼\u001b[1G\u001b[0K⠴\u001b[1G\u001b[0K\n",
            "added 22 packages in 8s\n",
            "\u001b[1G\u001b[0K⠴\u001b[1G\u001b[0K\n",
            "\u001b[1G\u001b[0K⠴\u001b[1G\u001b[0K3 packages are looking for funding\n",
            "\u001b[1G\u001b[0K⠴\u001b[1G\u001b[0K  run `npm fund` for details\n",
            "\u001b[1G\u001b[0K⠴\u001b[1G\u001b[0K34.169.135.154\u001b[1G\u001b[0K⠙\u001b[1G\u001b[0K⠹\u001b[1G\u001b[0Kyour url is: https://empty-moles-clap.loca.lt\n",
            "/content/node_modules/localtunnel/bin/lt.js:81\n",
            "    throw err;\n",
            "    ^\n",
            "\n",
            "Error: connection refused: localtunnel.me:21285 (check your firewall settings)\n",
            "    at Socket.<anonymous> \u001b[90m(/content/\u001b[39mnode_modules/\u001b[4mlocaltunnel\u001b[24m/lib/TunnelCluster.js:52:11\u001b[90m)\u001b[39m\n",
            "\u001b[90m    at Socket.emit (node:events:517:28)\u001b[39m\n",
            "\u001b[90m    at emitErrorNT (node:internal/streams/destroy:151:8)\u001b[39m\n",
            "\u001b[90m    at emitErrorCloseNT (node:internal/streams/destroy:116:3)\u001b[39m\n",
            "\u001b[90m    at process.processTicksAndRejections (node:internal/process/task_queues:82:21)\u001b[39m\n",
            "\n",
            "Node.js v18.20.5\n",
            "\u001b[1G\u001b[0K⠙\u001b[1G\u001b[0K"
          ]
        }
      ],
      "source": [
        "# !npm install localtunnel\n",
        "# !streamlit run app.py --server.address=localhost &>/content/logs.txt &\n",
        "# !npx localtunnel --port 8501 & curl https://loca.lt/mytunnelpassword\n"
      ]
    }
  ],
  "metadata": {
    "colab": {
      "provenance": [],
      "include_colab_link": true
    },
    "kernelspec": {
      "display_name": "Python 3",
      "name": "python3"
    },
    "language_info": {
      "name": "python"
    }
  },
  "nbformat": 4,
  "nbformat_minor": 0
}