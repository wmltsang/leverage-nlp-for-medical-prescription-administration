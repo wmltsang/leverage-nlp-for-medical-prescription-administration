{
  "nbformat": 4,
  "nbformat_minor": 0,
  "metadata": {
    "colab": {
      "provenance": []
    },
    "kernelspec": {
      "name": "python3",
      "display_name": "Python 3"
    },
    "language_info": {
      "name": "python"
    }
  },
  "cells": [
    {
      "cell_type": "markdown",
      "source": [
        "dicease classification model: input symptoms and output diceases accordingly"
      ],
      "metadata": {
        "id": "vsdT-NoxDuBI"
      }
    },
    {
      "cell_type": "code",
      "source": [
        "!pip install -q streamlit\n",
        "!pip install -q joblib"
      ],
      "metadata": {
        "colab": {
          "base_uri": "https://localhost:8080/"
        },
        "id": "uWcB1qRMLpuU",
        "outputId": "a1d303ea-3141-4ce4-a9ca-bddcb866b006"
      },
      "execution_count": null,
      "outputs": [
        {
          "output_type": "stream",
          "name": "stdout",
          "text": [
            "\u001b[2K     \u001b[90m━━━━━━━━━━━━━━━━━━━━━━━━━━━━━━━━━━━━━━━━\u001b[0m \u001b[32m44.3/44.3 kB\u001b[0m \u001b[31m2.2 MB/s\u001b[0m eta \u001b[36m0:00:00\u001b[0m\n",
            "\u001b[2K   \u001b[90m━━━━━━━━━━━━━━━━━━━━━━━━━━━━━━━━━━━━━━━━\u001b[0m \u001b[32m9.8/9.8 MB\u001b[0m \u001b[31m21.6 MB/s\u001b[0m eta \u001b[36m0:00:00\u001b[0m\n",
            "\u001b[2K   \u001b[90m━━━━━━━━━━━━━━━━━━━━━━━━━━━━━━━━━━━━━━━━\u001b[0m \u001b[32m6.9/6.9 MB\u001b[0m \u001b[31m29.0 MB/s\u001b[0m eta \u001b[36m0:00:00\u001b[0m\n",
            "\u001b[2K   \u001b[90m━━━━━━━━━━━━━━━━━━━━━━━━━━━━━━━━━━━━━━━━\u001b[0m \u001b[32m79.1/79.1 kB\u001b[0m \u001b[31m5.3 MB/s\u001b[0m eta \u001b[36m0:00:00\u001b[0m\n",
            "\u001b[?25h"
          ]
        }
      ]
    },
    {
      "cell_type": "code",
      "source": [
        "# Import libraries\n",
        "import os\n",
        "import pandas as pd\n",
        "from transformers import BertTokenizerFast, BertForSequenceClassification, Trainer, TrainingArguments\n",
        "import torch\n",
        "from torch.utils.data import Dataset\n",
        "#import pdfplumber\n",
        "#from langchain.text_splitter import RecursiveCharacterTextSplitter\n",
        "#from langchain.vectorstores import FAISS\n",
        "#from langchain.embeddings import HuggingFaceEmbeddings\n",
        "#from langchain.docstore.document import Document\n",
        "from sklearn.metrics import precision_score, recall_score, f1_score\n",
        "import numpy as np\n",
        "import gc\n",
        "import glob\n",
        "from collections import Counter\n",
        "import re\n",
        "from sklearn.feature_extraction.text import TfidfVectorizer\n",
        "from sklearn.model_selection import train_test_split\n",
        "from sklearn.linear_model import LogisticRegression\n",
        "from sklearn.metrics import accuracy_score, classification_report, confusion_matrix\n",
        "\n",
        "import joblib"
      ],
      "metadata": {
        "id": "AKbpcozmCSFm"
      },
      "execution_count": null,
      "outputs": []
    },
    {
      "cell_type": "code",
      "source": [
        "from google.colab import drive\n",
        "drive.mount('/content/gdrive')"
      ],
      "metadata": {
        "colab": {
          "base_uri": "https://localhost:8080/"
        },
        "id": "lFGk6GjACIFo",
        "outputId": "8aa72314-8c75-406c-a102-263aff0123a6"
      },
      "execution_count": null,
      "outputs": [
        {
          "output_type": "stream",
          "name": "stdout",
          "text": [
            "Mounted at /content/gdrive\n"
          ]
        }
      ]
    },
    {
      "cell_type": "code",
      "source": [
        "# Define file path\n",
        "DATA_PATH = \"/content/gdrive/MyDrive/processed_diseases-2400_NER.csv\""
      ],
      "metadata": {
        "id": "bTlBk9I8CQX2"
      },
      "execution_count": null,
      "outputs": []
    },
    {
      "cell_type": "code",
      "source": [
        "# Load CSV\n",
        "try:\n",
        "    df = pd.read_csv(\n",
        "        DATA_PATH,\n",
        "        usecols=[\"Disease\", \"Treatment\", \"Symptoms\"],\n",
        "        engine=\"pyarrow\",\n",
        "        dtype_backend=\"numpy_nullable\",\n",
        "        dtype={\"Disease\": \"string\", \"Treatment\": \"string\", \"Symptoms\": \"string\"}\n",
        "    ).rename(columns={\"Disease\": \"disease_name\", \"Treatment\": \"treatment\", \"Symptoms\": \"symptoms\"})\n",
        "    print(f\"Loaded CSV with {len(df)} rows\")\n",
        "except Exception as e:\n",
        "    raise ValueError(f\"Error loading CSV: {e}\")"
      ],
      "metadata": {
        "colab": {
          "base_uri": "https://localhost:8080/"
        },
        "id": "HziN7PLmFAY9",
        "outputId": "a6ae087e-fdb6-465e-fcf7-1131eeec8b12"
      },
      "execution_count": null,
      "outputs": [
        {
          "output_type": "stream",
          "name": "stdout",
          "text": [
            "Loaded CSV with 2399 rows\n"
          ]
        }
      ]
    },
    {
      "cell_type": "code",
      "source": [
        "# Verify columns\n",
        "required_cols = [\"symptoms\", \"disease_name\", \"treatment\"]\n",
        "if not all(col in df.columns for col in required_cols):\n",
        "    raise ValueError(f\"Missing columns: {[col for col in required_cols if col not in df.columns]}\")"
      ],
      "metadata": {
        "id": "Sq0phXe9FJce"
      },
      "execution_count": null,
      "outputs": []
    },
    {
      "cell_type": "code",
      "source": [
        "# Define binary labels (treatment present/absent)\n",
        "df[\"label\"] = [1 if pd.notna(row[\"treatment\"]) and row[\"treatment\"].strip() != \"\" else 0 for _, row in df.iterrows()]\n",
        "num_labels = 2  # Binary classification\n",
        "print(f\"Label distribution: \\n{df['label'].value_counts()}\")"
      ],
      "metadata": {
        "colab": {
          "base_uri": "https://localhost:8080/"
        },
        "id": "19dNe9UoFNrw",
        "outputId": "1c5c68a0-6a26-4151-e717-d69f31ab395c"
      },
      "execution_count": null,
      "outputs": [
        {
          "output_type": "stream",
          "name": "stdout",
          "text": [
            "Label distribution: \n",
            "label\n",
            "1    2399\n",
            "Name: count, dtype: int64\n"
          ]
        }
      ]
    },
    {
      "cell_type": "code",
      "source": [
        "df.info()"
      ],
      "metadata": {
        "colab": {
          "base_uri": "https://localhost:8080/"
        },
        "id": "GPTT_dKSNV0C",
        "outputId": "9ebcc7a6-336c-48b2-96bc-b09d8a9e0b01"
      },
      "execution_count": null,
      "outputs": [
        {
          "output_type": "stream",
          "name": "stdout",
          "text": [
            "<class 'pandas.core.frame.DataFrame'>\n",
            "RangeIndex: 2399 entries, 0 to 2398\n",
            "Data columns (total 4 columns):\n",
            " #   Column        Non-Null Count  Dtype \n",
            "---  ------        --------------  ----- \n",
            " 0   disease_name  2399 non-null   string\n",
            " 1   treatment     2399 non-null   string\n",
            " 2   symptoms      2399 non-null   string\n",
            " 3   label         2399 non-null   int64 \n",
            "dtypes: int64(1), string(3)\n",
            "memory usage: 75.1 KB\n"
          ]
        }
      ]
    },
    {
      "cell_type": "code",
      "source": [
        "df.head(5)"
      ],
      "metadata": {
        "colab": {
          "base_uri": "https://localhost:8080/",
          "height": 206
        },
        "id": "Epry6xTBNb4T",
        "outputId": "106ee5b3-405d-4d67-89f5-4cf8db11497b"
      },
      "execution_count": null,
      "outputs": [
        {
          "output_type": "execute_result",
          "data": {
            "text/plain": [
              "           disease_name                                          treatment  \\\n",
              "0            Vulvodynia  Topical lidocaine, amitriptyline (1050 mg dail...   \n",
              "1            Cold Sores  Acyclovir cream (5%, 5x daily), valacyclovir (...   \n",
              "2  Renal Cell Carcinoma  Nephrectomy, sunitinib (50 mg daily), nivoluma...   \n",
              "3               Scabies  Permethrin 5% cream, ivermectin (200 mcg/kg), ...   \n",
              "4   Parkinson’s Disease  Levodopacarbidopa (25/100 mg 3x daily), pramip...   \n",
              "\n",
              "                                            symptoms  label  \n",
              "0  Chronic vulvar burning, stinging, rawness; pai...      1  \n",
              "1  Lip tingling, painful blisters, crusting; mild...      1  \n",
              "2  Hematuria, flank pain, weight loss, fatigue, a...      1  \n",
              "3         Nighttime itching, red rash, skin burrows.      1  \n",
              "4  Resting tremors, bradykinesia, rigidity, postu...      1  "
            ],
            "text/html": [
              "\n",
              "  <div id=\"df-425d73da-57f0-4978-9ac0-539c7a4d454f\" class=\"colab-df-container\">\n",
              "    <div>\n",
              "<style scoped>\n",
              "    .dataframe tbody tr th:only-of-type {\n",
              "        vertical-align: middle;\n",
              "    }\n",
              "\n",
              "    .dataframe tbody tr th {\n",
              "        vertical-align: top;\n",
              "    }\n",
              "\n",
              "    .dataframe thead th {\n",
              "        text-align: right;\n",
              "    }\n",
              "</style>\n",
              "<table border=\"1\" class=\"dataframe\">\n",
              "  <thead>\n",
              "    <tr style=\"text-align: right;\">\n",
              "      <th></th>\n",
              "      <th>disease_name</th>\n",
              "      <th>treatment</th>\n",
              "      <th>symptoms</th>\n",
              "      <th>label</th>\n",
              "    </tr>\n",
              "  </thead>\n",
              "  <tbody>\n",
              "    <tr>\n",
              "      <th>0</th>\n",
              "      <td>Vulvodynia</td>\n",
              "      <td>Topical lidocaine, amitriptyline (1050 mg dail...</td>\n",
              "      <td>Chronic vulvar burning, stinging, rawness; pai...</td>\n",
              "      <td>1</td>\n",
              "    </tr>\n",
              "    <tr>\n",
              "      <th>1</th>\n",
              "      <td>Cold Sores</td>\n",
              "      <td>Acyclovir cream (5%, 5x daily), valacyclovir (...</td>\n",
              "      <td>Lip tingling, painful blisters, crusting; mild...</td>\n",
              "      <td>1</td>\n",
              "    </tr>\n",
              "    <tr>\n",
              "      <th>2</th>\n",
              "      <td>Renal Cell Carcinoma</td>\n",
              "      <td>Nephrectomy, sunitinib (50 mg daily), nivoluma...</td>\n",
              "      <td>Hematuria, flank pain, weight loss, fatigue, a...</td>\n",
              "      <td>1</td>\n",
              "    </tr>\n",
              "    <tr>\n",
              "      <th>3</th>\n",
              "      <td>Scabies</td>\n",
              "      <td>Permethrin 5% cream, ivermectin (200 mcg/kg), ...</td>\n",
              "      <td>Nighttime itching, red rash, skin burrows.</td>\n",
              "      <td>1</td>\n",
              "    </tr>\n",
              "    <tr>\n",
              "      <th>4</th>\n",
              "      <td>Parkinson’s Disease</td>\n",
              "      <td>Levodopacarbidopa (25/100 mg 3x daily), pramip...</td>\n",
              "      <td>Resting tremors, bradykinesia, rigidity, postu...</td>\n",
              "      <td>1</td>\n",
              "    </tr>\n",
              "  </tbody>\n",
              "</table>\n",
              "</div>\n",
              "    <div class=\"colab-df-buttons\">\n",
              "\n",
              "  <div class=\"colab-df-container\">\n",
              "    <button class=\"colab-df-convert\" onclick=\"convertToInteractive('df-425d73da-57f0-4978-9ac0-539c7a4d454f')\"\n",
              "            title=\"Convert this dataframe to an interactive table.\"\n",
              "            style=\"display:none;\">\n",
              "\n",
              "  <svg xmlns=\"http://www.w3.org/2000/svg\" height=\"24px\" viewBox=\"0 -960 960 960\">\n",
              "    <path d=\"M120-120v-720h720v720H120Zm60-500h600v-160H180v160Zm220 220h160v-160H400v160Zm0 220h160v-160H400v160ZM180-400h160v-160H180v160Zm440 0h160v-160H620v160ZM180-180h160v-160H180v160Zm440 0h160v-160H620v160Z\"/>\n",
              "  </svg>\n",
              "    </button>\n",
              "\n",
              "  <style>\n",
              "    .colab-df-container {\n",
              "      display:flex;\n",
              "      gap: 12px;\n",
              "    }\n",
              "\n",
              "    .colab-df-convert {\n",
              "      background-color: #E8F0FE;\n",
              "      border: none;\n",
              "      border-radius: 50%;\n",
              "      cursor: pointer;\n",
              "      display: none;\n",
              "      fill: #1967D2;\n",
              "      height: 32px;\n",
              "      padding: 0 0 0 0;\n",
              "      width: 32px;\n",
              "    }\n",
              "\n",
              "    .colab-df-convert:hover {\n",
              "      background-color: #E2EBFA;\n",
              "      box-shadow: 0px 1px 2px rgba(60, 64, 67, 0.3), 0px 1px 3px 1px rgba(60, 64, 67, 0.15);\n",
              "      fill: #174EA6;\n",
              "    }\n",
              "\n",
              "    .colab-df-buttons div {\n",
              "      margin-bottom: 4px;\n",
              "    }\n",
              "\n",
              "    [theme=dark] .colab-df-convert {\n",
              "      background-color: #3B4455;\n",
              "      fill: #D2E3FC;\n",
              "    }\n",
              "\n",
              "    [theme=dark] .colab-df-convert:hover {\n",
              "      background-color: #434B5C;\n",
              "      box-shadow: 0px 1px 3px 1px rgba(0, 0, 0, 0.15);\n",
              "      filter: drop-shadow(0px 1px 2px rgba(0, 0, 0, 0.3));\n",
              "      fill: #FFFFFF;\n",
              "    }\n",
              "  </style>\n",
              "\n",
              "    <script>\n",
              "      const buttonEl =\n",
              "        document.querySelector('#df-425d73da-57f0-4978-9ac0-539c7a4d454f button.colab-df-convert');\n",
              "      buttonEl.style.display =\n",
              "        google.colab.kernel.accessAllowed ? 'block' : 'none';\n",
              "\n",
              "      async function convertToInteractive(key) {\n",
              "        const element = document.querySelector('#df-425d73da-57f0-4978-9ac0-539c7a4d454f');\n",
              "        const dataTable =\n",
              "          await google.colab.kernel.invokeFunction('convertToInteractive',\n",
              "                                                    [key], {});\n",
              "        if (!dataTable) return;\n",
              "\n",
              "        const docLinkHtml = 'Like what you see? Visit the ' +\n",
              "          '<a target=\"_blank\" href=https://colab.research.google.com/notebooks/data_table.ipynb>data table notebook</a>'\n",
              "          + ' to learn more about interactive tables.';\n",
              "        element.innerHTML = '';\n",
              "        dataTable['output_type'] = 'display_data';\n",
              "        await google.colab.output.renderOutput(dataTable, element);\n",
              "        const docLink = document.createElement('div');\n",
              "        docLink.innerHTML = docLinkHtml;\n",
              "        element.appendChild(docLink);\n",
              "      }\n",
              "    </script>\n",
              "  </div>\n",
              "\n",
              "\n",
              "<div id=\"df-39e2133a-f91b-4357-b3bf-6a813e9053d0\">\n",
              "  <button class=\"colab-df-quickchart\" onclick=\"quickchart('df-39e2133a-f91b-4357-b3bf-6a813e9053d0')\"\n",
              "            title=\"Suggest charts\"\n",
              "            style=\"display:none;\">\n",
              "\n",
              "<svg xmlns=\"http://www.w3.org/2000/svg\" height=\"24px\"viewBox=\"0 0 24 24\"\n",
              "     width=\"24px\">\n",
              "    <g>\n",
              "        <path d=\"M19 3H5c-1.1 0-2 .9-2 2v14c0 1.1.9 2 2 2h14c1.1 0 2-.9 2-2V5c0-1.1-.9-2-2-2zM9 17H7v-7h2v7zm4 0h-2V7h2v10zm4 0h-2v-4h2v4z\"/>\n",
              "    </g>\n",
              "</svg>\n",
              "  </button>\n",
              "\n",
              "<style>\n",
              "  .colab-df-quickchart {\n",
              "      --bg-color: #E8F0FE;\n",
              "      --fill-color: #1967D2;\n",
              "      --hover-bg-color: #E2EBFA;\n",
              "      --hover-fill-color: #174EA6;\n",
              "      --disabled-fill-color: #AAA;\n",
              "      --disabled-bg-color: #DDD;\n",
              "  }\n",
              "\n",
              "  [theme=dark] .colab-df-quickchart {\n",
              "      --bg-color: #3B4455;\n",
              "      --fill-color: #D2E3FC;\n",
              "      --hover-bg-color: #434B5C;\n",
              "      --hover-fill-color: #FFFFFF;\n",
              "      --disabled-bg-color: #3B4455;\n",
              "      --disabled-fill-color: #666;\n",
              "  }\n",
              "\n",
              "  .colab-df-quickchart {\n",
              "    background-color: var(--bg-color);\n",
              "    border: none;\n",
              "    border-radius: 50%;\n",
              "    cursor: pointer;\n",
              "    display: none;\n",
              "    fill: var(--fill-color);\n",
              "    height: 32px;\n",
              "    padding: 0;\n",
              "    width: 32px;\n",
              "  }\n",
              "\n",
              "  .colab-df-quickchart:hover {\n",
              "    background-color: var(--hover-bg-color);\n",
              "    box-shadow: 0 1px 2px rgba(60, 64, 67, 0.3), 0 1px 3px 1px rgba(60, 64, 67, 0.15);\n",
              "    fill: var(--button-hover-fill-color);\n",
              "  }\n",
              "\n",
              "  .colab-df-quickchart-complete:disabled,\n",
              "  .colab-df-quickchart-complete:disabled:hover {\n",
              "    background-color: var(--disabled-bg-color);\n",
              "    fill: var(--disabled-fill-color);\n",
              "    box-shadow: none;\n",
              "  }\n",
              "\n",
              "  .colab-df-spinner {\n",
              "    border: 2px solid var(--fill-color);\n",
              "    border-color: transparent;\n",
              "    border-bottom-color: var(--fill-color);\n",
              "    animation:\n",
              "      spin 1s steps(1) infinite;\n",
              "  }\n",
              "\n",
              "  @keyframes spin {\n",
              "    0% {\n",
              "      border-color: transparent;\n",
              "      border-bottom-color: var(--fill-color);\n",
              "      border-left-color: var(--fill-color);\n",
              "    }\n",
              "    20% {\n",
              "      border-color: transparent;\n",
              "      border-left-color: var(--fill-color);\n",
              "      border-top-color: var(--fill-color);\n",
              "    }\n",
              "    30% {\n",
              "      border-color: transparent;\n",
              "      border-left-color: var(--fill-color);\n",
              "      border-top-color: var(--fill-color);\n",
              "      border-right-color: var(--fill-color);\n",
              "    }\n",
              "    40% {\n",
              "      border-color: transparent;\n",
              "      border-right-color: var(--fill-color);\n",
              "      border-top-color: var(--fill-color);\n",
              "    }\n",
              "    60% {\n",
              "      border-color: transparent;\n",
              "      border-right-color: var(--fill-color);\n",
              "    }\n",
              "    80% {\n",
              "      border-color: transparent;\n",
              "      border-right-color: var(--fill-color);\n",
              "      border-bottom-color: var(--fill-color);\n",
              "    }\n",
              "    90% {\n",
              "      border-color: transparent;\n",
              "      border-bottom-color: var(--fill-color);\n",
              "    }\n",
              "  }\n",
              "</style>\n",
              "\n",
              "  <script>\n",
              "    async function quickchart(key) {\n",
              "      const quickchartButtonEl =\n",
              "        document.querySelector('#' + key + ' button');\n",
              "      quickchartButtonEl.disabled = true;  // To prevent multiple clicks.\n",
              "      quickchartButtonEl.classList.add('colab-df-spinner');\n",
              "      try {\n",
              "        const charts = await google.colab.kernel.invokeFunction(\n",
              "            'suggestCharts', [key], {});\n",
              "      } catch (error) {\n",
              "        console.error('Error during call to suggestCharts:', error);\n",
              "      }\n",
              "      quickchartButtonEl.classList.remove('colab-df-spinner');\n",
              "      quickchartButtonEl.classList.add('colab-df-quickchart-complete');\n",
              "    }\n",
              "    (() => {\n",
              "      let quickchartButtonEl =\n",
              "        document.querySelector('#df-39e2133a-f91b-4357-b3bf-6a813e9053d0 button');\n",
              "      quickchartButtonEl.style.display =\n",
              "        google.colab.kernel.accessAllowed ? 'block' : 'none';\n",
              "    })();\n",
              "  </script>\n",
              "</div>\n",
              "\n",
              "    </div>\n",
              "  </div>\n"
            ],
            "application/vnd.google.colaboratory.intrinsic+json": {
              "type": "dataframe",
              "variable_name": "df",
              "summary": "{\n  \"name\": \"df\",\n  \"rows\": 2399,\n  \"fields\": [\n    {\n      \"column\": \"disease_name\",\n      \"properties\": {\n        \"dtype\": \"string\",\n        \"num_unique_values\": 2117,\n        \"samples\": [\n          \"Pulmonary Tuberculosis\",\n          \"Liver Disease (General, Entry 2)\",\n          \"Scoliosis\"\n        ],\n        \"semantic_type\": \"\",\n        \"description\": \"\"\n      }\n    },\n    {\n      \"column\": \"treatment\",\n      \"properties\": {\n        \"dtype\": \"string\",\n        \"num_unique_values\": 2168,\n        \"samples\": [\n          \"Wide excision, imatinib (400 mg daily), radiation\",\n          \"Surgery (if >5.5 cm), metoprolol (50 mg daily), monitor.\",\n          \"Stone removal, stenting.\"\n        ],\n        \"semantic_type\": \"\",\n        \"description\": \"\"\n      }\n    },\n    {\n      \"column\": \"symptoms\",\n      \"properties\": {\n        \"dtype\": \"string\",\n        \"num_unique_values\": 2200,\n        \"samples\": [\n          \"Red eyes, discharge, itching, gritty feeling\",\n          \"Lower back pain, stiffness, worse with rest\",\n          \"Excessive perspiration, variable triggers\"\n        ],\n        \"semantic_type\": \"\",\n        \"description\": \"\"\n      }\n    },\n    {\n      \"column\": \"label\",\n      \"properties\": {\n        \"dtype\": \"number\",\n        \"std\": 0,\n        \"min\": 1,\n        \"max\": 1,\n        \"num_unique_values\": 1,\n        \"samples\": [\n          1\n        ],\n        \"semantic_type\": \"\",\n        \"description\": \"\"\n      }\n    }\n  ]\n}"
            }
          },
          "metadata": {},
          "execution_count": 8
        }
      ]
    },
    {
      "cell_type": "code",
      "source": [
        "# Define possible delimiters\n",
        "delimiters = [',', ';', '|', '\\t', ' ']\n",
        "\n",
        "# Function to clean and split text while keeping delimiters as tokens\n",
        "def clean_and_split_with_delimiters(text):\n",
        "    if pd.isna(text):\n",
        "        return ''\n",
        "\n",
        "    # Treat delimiters as special tokens\n",
        "    for delimiter in delimiters:\n",
        "        text = text.replace(delimiter, f\" | \")\n",
        "\n",
        "    return text.lower()  # Convert text to lowercase to standardize\n",
        "\n",
        "# Apply the new cleaning function\n",
        "df['cleaned_symptoms'] = df['symptoms'].apply(clean_and_split_with_delimiters)\n",
        "\n",
        "# Convert text to numerical features using TF-IDF\n",
        "vectorizer = TfidfVectorizer()\n",
        "X = vectorizer.fit_transform(df['cleaned_symptoms'])\n",
        "y = df['disease_name']\n",
        "\n",
        "#comment out so i can train the whole dataset\n",
        "# # Split into training and testing sets (80% train, 20% test)\n",
        "# X_train, X_test, y_train, y_test = train_test_split(X, y, test_size=0.2, random_state=42)\n",
        "\n",
        "# Train the model\n",
        "clf = LogisticRegression(\n",
        "    penalty='l2',          # Ridge (L2) regularization to prevent overfitting\n",
        "    C=1.0,                 # Regularization strength (default=1.0, lower values increase regularization)\n",
        "    solver='liblinear',     # Suitable for small datasets and works well with sparse data\n",
        "    max_iter=200,           # Sufficient iterations for convergence\n",
        "    class_weight='balanced') # Handles class imbalances by adjusting weights)\n",
        "clf.fit(X, y)\n",
        "\n",
        "# # Evaluate on training data\n",
        "# y_train_pred = clf.predict(X_train)\n",
        "# train_accuracy = accuracy_score(y_train, y_train_pred)\n",
        "\n",
        "# # Evaluate on test data\n",
        "# y_test_pred = clf.predict(X_test)\n",
        "\n",
        "# import matplotlib.pyplot as plt\n",
        "# import numpy as np\n",
        "\n",
        "# # Accuracy scores\n",
        "# train_accuracy = accuracy_score(y_train, y_train_pred)\n",
        "# test_accuracy = accuracy_score(y_test, y_test_pred)\n",
        "\n",
        "# # Bar chart\n",
        "# plt.figure(figsize=(6, 4))\n",
        "# plt.bar([\"Train Accuracy\", \"Test Accuracy\"], [train_accuracy, test_accuracy], color=['blue', 'orange'])\n",
        "# plt.ylim(0, 1)\n",
        "# plt.ylabel(\"Accuracy\")\n",
        "# plt.title(\"Training vs. Test Accuracy\")\n",
        "# plt.show()\n",
        "\n",
        "# Function to Predict Top 3 Approximate Diseases (with delimiter retention)\n",
        "def predict_top_5_diseases(symptom_input):\n",
        "    # Clean and process input while keeping delimiters as tokens\n",
        "    cleaned_input = clean_and_split_with_delimiters(symptom_input)\n",
        "\n",
        "    # # Convert input to TF-IDF representation\n",
        "    input_vector = vectorizer.transform([cleaned_input])\n",
        "\n",
        "    # # Get predicted probabilities for all diseases\n",
        "    probas = clf.predict_proba(input_vector)[0]\n",
        "\n",
        "    # # Pair disease names with their probabilities\n",
        "    disease_probabilities = list(zip(clf.classes_, probas))\n",
        "\n",
        "    #Sort by probas which is second element in disease_probabilities which is a list data type\n",
        "    sorted_disease = sorted(disease_probabilities , key=lambda x: x[1], reverse = True)\n",
        "\n",
        "    #Sort diseases by probability in descending order and get top 5\n",
        "    top_5_diseases = sorted(sorted_disease, key=lambda x: x[1], reverse=True)[:5]\n",
        "\n",
        "    return top_5_diseases"
      ],
      "metadata": {
        "id": "nxdc60OaSuec"
      },
      "execution_count": null,
      "outputs": []
    },
    {
      "cell_type": "code",
      "source": [
        "#Test example with users inputing fever and rash symptoms\n",
        "cleaned_input = clean_and_split_with_delimiters(\"fever,rash\")\n",
        "\n",
        "# # Convert input to TF-IDF representation\n",
        "input_vector = vectorizer.transform([cleaned_input])\n",
        "\n",
        "# # Get predicted probabilities for all diseases\n",
        "probas = clf.predict_proba(input_vector)[0]\n",
        "\n",
        "# # Pair disease names with their probabilities\n",
        "disease_probabilities = list(zip(clf.classes_, probas))\n",
        "\n",
        "#Sort by probas which is second element in disease_probabilities which is a list data type\n",
        "sorted_disease = sorted(disease_probabilities , key=lambda x: x[1], reverse = True)\n",
        "\n",
        "#Sort diseases by probability in descending order and get top 5\n",
        "top_5_diseases = sorted(sorted_disease, key=lambda x: x[1], reverse=True)[:5]\n",
        "\n",
        "top_5_diseases"
      ],
      "metadata": {
        "colab": {
          "base_uri": "https://localhost:8080/"
        },
        "id": "1PcPyL5tEZ6U",
        "outputId": "910fb7c1-295a-4a6e-baeb-e43e3466292a"
      },
      "execution_count": null,
      "outputs": [
        {
          "output_type": "execute_result",
          "data": {
            "text/plain": [
              "[('EpsteinBarr Virus (2)', np.float64(0.0008540485569227423)),\n",
              " ('Enterovirus (NonPolio Enterovirus Infection)',\n",
              "  np.float64(0.0008126788050867763)),\n",
              " ('Lyme Disease', np.float64(0.0007892462361763946)),\n",
              " ('Herpes Zoster Meningitis (Entry 1)', np.float64(0.0007854519080706658)),\n",
              " ('Autoinflammatory Disease (General)', np.float64(0.0007832082665867253))]"
            ]
          },
          "metadata": {},
          "execution_count": 10
        }
      ]
    },
    {
      "cell_type": "code",
      "source": [
        "#Test example with users inputing fever and headache symptoms\n",
        "cleaned_input = clean_and_split_with_delimiters(\"headache,fever\")\n",
        "\n",
        "  # # Convert input to TF-IDF representation\n",
        "input_vector = vectorizer.transform([cleaned_input])\n",
        "\n",
        "  # # Get predicted probabilities for all diseases\n",
        "probas = clf.predict_proba(input_vector)[0]\n",
        "\n",
        "  # # Pair disease names with their probabilities\n",
        "disease_probabilities = list(zip(clf.classes_, probas))\n",
        "\n",
        "  #Sort by probas which is second element in disease_probabilities which is a list data type\n",
        "sorted_disease = sorted(disease_probabilities , key=lambda x: x[1], reverse = True)\n",
        "\n",
        "  #Sort diseases by probability in descending order and get top 5\n",
        "top_5_diseases = sorted(sorted_disease, key=lambda x: x[1], reverse=True)[:5]\n",
        "\n",
        "top_5_diseases"
      ],
      "metadata": {
        "colab": {
          "base_uri": "https://localhost:8080/"
        },
        "id": "2YPGYYlPEnLK",
        "outputId": "d8a35aab-4e05-4f02-dbd7-b41f4c79343c"
      },
      "execution_count": null,
      "outputs": [
        {
          "output_type": "execute_result",
          "data": {
            "text/plain": [
              "[('Viral Meningitis in Children', np.float64(0.0008359303322579575)),\n",
              " ('Viral Encephalitis', np.float64(0.0008275084567961582)),\n",
              " ('CNS Infection (General)', np.float64(0.0008275084567961575)),\n",
              " ('Viral Meningitis (Duplicate, Variation)',\n",
              "  np.float64(0.0007783366766052738)),\n",
              " ('Herpes Zoster Meningitis (Entry 1)', np.float64(0.0007727735774739741))]"
            ]
          },
          "metadata": {},
          "execution_count": 11
        }
      ]
    },
    {
      "cell_type": "code",
      "source": [
        "# Final testing for the function to apply the model inside the function when user enters symptoms\n",
        "user_symptoms = \"Fever, rash\"\n",
        "predicted_top_5_diseases = predict_top_5_diseases(user_symptoms)\n",
        "\n",
        "# Display the top 5 ranked diseases and corresponding treatment column from dataframe df as well\n",
        "predicted_top_5_diseases"
      ],
      "metadata": {
        "colab": {
          "base_uri": "https://localhost:8080/"
        },
        "id": "X1fkWk5FnWhd",
        "outputId": "23729e01-547f-42e5-e492-6362cc1a1a0c"
      },
      "execution_count": null,
      "outputs": [
        {
          "output_type": "execute_result",
          "data": {
            "text/plain": [
              "[('EpsteinBarr Virus (2)', np.float64(0.0008540485569227423)),\n",
              " ('Enterovirus (NonPolio Enterovirus Infection)',\n",
              "  np.float64(0.0008126788050867763)),\n",
              " ('Lyme Disease', np.float64(0.0007892462361763946)),\n",
              " ('Herpes Zoster Meningitis (Entry 1)', np.float64(0.0007854519080706658)),\n",
              " ('Autoinflammatory Disease (General)', np.float64(0.0007832082665867253))]"
            ]
          },
          "metadata": {},
          "execution_count": 12
        }
      ]
    },
    {
      "cell_type": "code",
      "source": [
        "#my next step is to append the diseases back to the dataframe to get the correspoinding treatment col"
      ],
      "metadata": {
        "id": "MC2p6VbJNeo2"
      },
      "execution_count": null,
      "outputs": []
    },
    {
      "cell_type": "code",
      "source": [
        "#deploy the model to app\n",
        "#Save the model and vectorizer\n",
        "# 🔹 Set Google Drive path (Modify if necessary)\n",
        "drive_path = \"/content/gdrive/MyDrive/\"\n",
        "\n",
        "joblib.dump(clf, os.path.join(drive_path, 'disease_model.pkl'))\n",
        "joblib.dump(vectorizer, os.path.join(drive_path, 'tfidf_vectorizer.pkl'))"
      ],
      "metadata": {
        "colab": {
          "base_uri": "https://localhost:8080/"
        },
        "id": "Qo1wPTDjEP0j",
        "outputId": "79053cf5-4edc-4334-e4a6-d15a1af0faf8"
      },
      "execution_count": null,
      "outputs": [
        {
          "output_type": "execute_result",
          "data": {
            "text/plain": [
              "['/content/gdrive/MyDrive/tfidf_vectorizer.pkl']"
            ]
          },
          "metadata": {},
          "execution_count": 14
        }
      ]
    },
    {
      "cell_type": "code",
      "source": [
        "%%writefile app.py\n",
        "import streamlit as st\n",
        "import pandas as pd\n",
        "import joblib\n",
        "import os\n",
        "\n",
        "\n",
        "# 🔹 Set Google Drive path (Modify if necessary)\n",
        "drive_path = \"/content/gdrive/MyDrive/\"\n",
        "\n",
        "# 🔹 Function to load the trained model and vectorizer\n",
        "@st.cache_resource\n",
        "def load_model():\n",
        "    model_path = os.path.join(drive_path, \"disease_model.pkl\")\n",
        "    vectorizer_path = os.path.join(drive_path, \"tfidf_vectorizer.pkl\")\n",
        "\n",
        "    if not os.path.exists(model_path) or not os.path.exists(vectorizer_path):\n",
        "        st.error(\"🚨 Model or vectorizer not found! Please train and save them first.\")\n",
        "        return None, None\n",
        "\n",
        "    clf = joblib.load(model_path)\n",
        "    vectorizer = joblib.load(vectorizer_path)\n",
        "    return clf, vectorizer\n",
        "\n",
        "# 🔹 Load Model & Vectorizer\n",
        "clf, vectorizer_tfidf = load_model()\n",
        "\n",
        "# 🔹 Load Dataset for Symptom Selection\n",
        "@st.cache_data\n",
        "def load_data():\n",
        "    data_path = \"/content/gdrive/MyDrive/processed_diseases-2400_NER.csv\"\n",
        "    return pd.read_csv(data_path)\n",
        "\n",
        "df = load_data()\n",
        "\n",
        "# ✅ Streamlit App UI\n",
        "st.title(\"🔬 Disease Prediction App\")\n",
        "st.write(\"**Select symptoms and predict the most likely disease.**\")\n",
        "\n",
        "# 🔹 Extract Unique Symptoms\n",
        "all_symptoms = set()\n",
        "for symptoms in df[\"Symptoms\"].astype(str).fillna(\"\"):\n",
        "    all_symptoms.update(symptoms.split(\", \"))\n",
        "\n",
        "\n",
        "# 🔹 User Input: Multi-select Symptoms\n",
        "selected_symptoms = st.multiselect(\"🩺 Select Symptoms:\", sorted(all_symptoms))\n",
        "\n",
        "# 🔹 Prediction Button\n",
        "if st.button(\"🔍 Predict Disease\"):\n",
        "    if not selected_symptoms:\n",
        "        st.warning(\"⚠️ Please select at least one symptom.\")\n",
        "    elif clf is None or vectorizer_tfidf is None:\n",
        "        st.error(\"🚨 Model is not loaded. Please check the file paths and restart.\")\n",
        "    else:\n",
        "        # Convert user input to TF-IDF format\n",
        "        input_text = \", \".join(selected_symptoms)\n",
        "        input_vectorized = vectorizer_tfidf.transform([input_text])\n",
        "\n",
        "        # Make Prediction\n",
        "        prediction = clf.predict(input_vectorized)\n",
        "        probability = clf.predict_proba(input_vectorized).max()\n",
        "\n",
        "        # ✅ Display the Prediction\n",
        "        st.success(f\"🩺 **Predicted Disease:** {prediction[0].capitalize()}\")\n",
        "        st.write(f\"🔍 **Confidence Score:** {probability:.2f}\")\n",
        "\n",
        "# 🔹 Data Preview\n",
        "st.write(\"📊 **Sample Data:**\")\n",
        "st.dataframe(df.head())\n"
      ],
      "metadata": {
        "colab": {
          "base_uri": "https://localhost:8080/"
        },
        "id": "Hy2rcPZHLeN-",
        "outputId": "e8ade9e9-7b91-436f-9674-73f6fa45840f"
      },
      "execution_count": null,
      "outputs": [
        {
          "output_type": "stream",
          "name": "stdout",
          "text": [
            "Overwriting app.py\n"
          ]
        }
      ]
    },
    {
      "cell_type": "code",
      "source": [
        "!npm install localtunnel\n",
        "!streamlit run app.py --server.address=localhost &>/content/logs.txt &\n",
        "!npx localtunnel --port 8501 & curl https://loca.lt/mytunnelpassword"
      ],
      "metadata": {
        "colab": {
          "base_uri": "https://localhost:8080/"
        },
        "id": "7z2uXcA_Qi8X",
        "outputId": "abd41cf9-c89d-4ea6-c80f-bc11186b7517"
      },
      "execution_count": null,
      "outputs": [
        {
          "output_type": "stream",
          "name": "stdout",
          "text": [
            "\u001b[1G\u001b[0K⠙\u001b[1G\u001b[0K⠹\u001b[1G\u001b[0K⠸\u001b[1G\u001b[0K⠼\u001b[1G\u001b[0K⠴\u001b[1G\u001b[0K⠦\u001b[1G\u001b[0K⠧\u001b[1G\u001b[0K⠇\u001b[1G\u001b[0K⠏\u001b[1G\u001b[0K⠋\u001b[1G\u001b[0K⠙\u001b[1G\u001b[0K⠹\u001b[1G\u001b[0K⠸\u001b[1G\u001b[0K⠼\u001b[1G\u001b[0K⠴\u001b[1G\u001b[0K⠦\u001b[1G\u001b[0K⠧\u001b[1G\u001b[0K⠇\u001b[1G\u001b[0K⠏\u001b[1G\u001b[0K⠋\u001b[1G\u001b[0K⠙\u001b[1G\u001b[0K⠹\u001b[1G\u001b[0K⠸\u001b[1G\u001b[0K⠼\u001b[1G\u001b[0K⠴\u001b[1G\u001b[0K⠦\u001b[1G\u001b[0K⠧\u001b[1G\u001b[0K⠇\u001b[1G\u001b[0K⠏\u001b[1G\u001b[0K⠋\u001b[1G\u001b[0K⠙\u001b[1G\u001b[0K⠹\u001b[1G\u001b[0K⠸\u001b[1G\u001b[0K\n",
            "added 22 packages in 4s\n",
            "\u001b[1G\u001b[0K⠸\u001b[1G\u001b[0K\n",
            "\u001b[1G\u001b[0K⠸\u001b[1G\u001b[0K3 packages are looking for funding\n",
            "\u001b[1G\u001b[0K⠸\u001b[1G\u001b[0K  run `npm fund` for details\n",
            "\u001b[1G\u001b[0K⠸\u001b[1G\u001b[0K34.46.1.123\u001b[1G\u001b[0K⠙\u001b[1G\u001b[0Kyour url is: https://grumpy-comics-attack.loca.lt\n"
          ]
        }
      ]
    },
    {
      "cell_type": "markdown",
      "source": [],
      "metadata": {
        "id": "z7kUQfcbMFKI"
      }
    }
  ]
}